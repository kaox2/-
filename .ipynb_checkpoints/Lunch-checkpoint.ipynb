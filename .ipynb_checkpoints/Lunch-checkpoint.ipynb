{
 "cells": [
  {
   "cell_type": "code",
   "execution_count": 39,
   "metadata": {
    "collapsed": false
   },
   "outputs": [
    {
     "name": "stdout",
     "output_type": "stream",
     "text": [
      "品果品果\n",
      "Big MaMa\n",
      "港園牛肉麵\n"
     ]
    }
   ],
   "source": [
    "%pylab inline\n",
    "import pandas as pd\n",
    "import os\n",
    "from IPython.display import display\n",
    "from IPython.html.widgets import interact_manual, interact\n",
    "from random import choice\n",
    "'''\n",
    " 店名,距離,價位\n",
    "stores_lst = [['牛肉麵','中','中'],\n",
    "              ['燉肉飯','中','低'],\n",
    "              ['壽司', '中', '高'],\n",
    "stores_df = pd.DataFrame(stores_lst, columns=[\"店名\",\"距離\",\"價位\"])\n",
    "'''\n",
    "\n",
    "areas = [file for file in os.listdir() if file[-4:] == '.csv']\n",
    "try:\n",
    "    stores_df = pd.read_csv(areas[0], encoding ='utf8')\n",
    "except UnicodeDecodeError:\n",
    "    stores_df = pd.read_csv(areas[0], encoding ='big5')   \n",
    "        \n",
    "def 選擇菜單(area):\n",
    "    global stores_df\n",
    "    print (area)\n",
    "    try:\n",
    "        stores_df = pd.read_csv(area, encoding ='utf8')\n",
    "    except UnicodeDecodeError:\n",
    "        stores_df = pd.read_csv(area, encoding ='big5')\n",
    "    \n",
    "def 上帝選吧():\n",
    "    print (choice(stores_df[\"店名\"]))  \n",
    "    \n",
    "def 三選一吧():\n",
    "    tmp_df = stores_df\n",
    "    c1 = choice(tmp_df[\"店名\"])\n",
    "    print (c1)\n",
    "    tmp_df = tmp_df[tmp_df[\"店名\"] != c1]\n",
    "    tmp_df.index = range(0,len(tmp_df))\n",
    "    #print (tmp_df)\n",
    "    c2 = choice(tmp_df[\"店名\"])\n",
    "    print (c2)\n",
    "    tmp_df = tmp_df[tmp_df[\"店名\"] != c2]\n",
    "    tmp_df.index = range(0,len(tmp_df))\n",
    "    #print (tmp_df)\n",
    "    c3 = choice(tmp_df[\"店名\"])\n",
    "    print (c3)\n",
    "    #tmp_df = tmp_df[tmp_df[\"店名\"] != c3]\n",
    "    #print (tmp_df)  \n",
    "    \n",
    "def choose_by_distance(distance):\n",
    "    '''\n",
    "    distance: 遠, 中, 近\n",
    "    '''\n",
    "    gp = stores_df.groupby(\"距離\")\n",
    "    new_df = gp.get_group(name=distance)\n",
    "    new_df.index = range(0,len(new_df))\n",
    "    print (choice(new_df[\"店名\"]))\n",
    "\n",
    "def 近一點():\n",
    "    choose_by_distance('近')\n",
    "    \n",
    "def 不近不遠():\n",
    "    choose_by_distance('中')\n",
    "    \n",
    "def 遠一點():\n",
    "    choose_by_distance('遠')\n",
    "\n",
    "def choose_by_price(price):\n",
    "    '''\n",
    "    price: 高, 中, 低\n",
    "    '''\n",
    "    gp = stores_df.groupby(\"價位\")\n",
    "    new_df = gp.get_group(name=price)\n",
    "    new_df.index = range(0,len(new_df))\n",
    "    print (choice(new_df[\"店名\"]))\n",
    "\n",
    "def 便宜一點():\n",
    "    choose_by_price('低')\n",
    "\n",
    "def 價位適中():\n",
    "    choose_by_price('中')\n",
    "    \n",
    "def 貴一點():\n",
    "    choose_by_price('高')\n",
    "\n",
    "def 給我選():\n",
    "    display(stores_df)\n",
    "\n",
    "interact(選擇菜單, area=areas);\n",
    "interact_manual(上帝選吧);\n",
    "interact_manual(三選一吧);\n",
    "interact_manual(近一點);\n",
    "interact_manual(不近不遠);\n",
    "interact_manual(遠一點);\n",
    "interact_manual(便宜一點);\n",
    "interact_manual(價位適中);\n",
    "interact_manual(貴一點);\n",
    "interact_manual(給我選);"
   ]
  },
  {
   "cell_type": "code",
   "execution_count": 3,
   "metadata": {
    "collapsed": false
   },
   "outputs": [
    {
     "name": "stdout",
     "output_type": "stream",
     "text": [
      "Help on method choice in module random:\n",
      "\n",
      "choice(seq) method of random.Random instance\n",
      "    Choose a random element from a non-empty sequence.\n",
      "\n"
     ]
    }
   ],
   "source": [
    "help(choice)"
   ]
  },
  {
   "cell_type": "code",
   "execution_count": 35,
   "metadata": {
    "collapsed": false
   },
   "outputs": [
    {
     "name": "stdout",
     "output_type": "stream",
     "text": [
      "樂卡麵\n",
      "          店名 距離 價位\n",
      "0      港園牛肉麵  中  高\n",
      "1     小西門燉肉飯  中  中\n",
      "2       松田壽司  中  高\n",
      "3      阿進切仔麵  中  低\n",
      "4      尚芳土魠魚  遠  中\n",
      "5      阿英排骨飯  遠  中\n",
      "6   Big MaMa  近  高\n",
      "7       林爸廚房  近  中\n",
      "9        豬腳麵  中  低\n",
      "10      老師的麵  近  中\n",
      "11      愛上乾麵  遠  中\n",
      "12      品果品果  中  中\n",
      "尚芳土魠魚\n",
      "          店名 距離 價位\n",
      "0      港園牛肉麵  中  高\n",
      "1     小西門燉肉飯  中  中\n",
      "2       松田壽司  中  高\n",
      "3      阿進切仔麵  中  低\n",
      "5      阿英排骨飯  遠  中\n",
      "6   Big MaMa  近  高\n",
      "7       林爸廚房  近  中\n",
      "9        豬腳麵  中  低\n",
      "10      老師的麵  近  中\n",
      "11      愛上乾麵  遠  中\n",
      "12      品果品果  中  中\n",
      "港園牛肉麵\n",
      "          店名 距離 價位\n",
      "1     小西門燉肉飯  中  中\n",
      "2       松田壽司  中  高\n",
      "3      阿進切仔麵  中  低\n",
      "5      阿英排骨飯  遠  中\n",
      "6   Big MaMa  近  高\n",
      "7       林爸廚房  近  中\n",
      "9        豬腳麵  中  低\n",
      "10      老師的麵  近  中\n",
      "11      愛上乾麵  遠  中\n",
      "12      品果品果  中  中\n"
     ]
    }
   ],
   "source": []
  },
  {
   "cell_type": "code",
   "execution_count": 30,
   "metadata": {
    "collapsed": false
   },
   "outputs": [
    {
     "name": "stdout",
     "output_type": "stream",
     "text": [
      "Help on function filter in module pandas.core.generic:\n",
      "\n",
      "filter(self, items=None, like=None, regex=None, axis=None)\n",
      "    Restrict the info axis to set of items or wildcard\n",
      "    \n",
      "    Parameters\n",
      "    ----------\n",
      "    items : list-like\n",
      "        List of info axis to restrict to (must not all be present)\n",
      "    like : string\n",
      "        Keep info axis where \"arg in col == True\"\n",
      "    regex : string (regular expression)\n",
      "        Keep info axis with re.search(regex, col) == True\n",
      "    axis : int or None\n",
      "        The axis to filter on. By default this is the info axis. The \"info\n",
      "        axis\" is the axis that is used when indexing with ``[]``. For\n",
      "        example, ``df = DataFrame({'a': [1, 2, 3, 4]]}); df['a']``. So,\n",
      "        the ``DataFrame`` columns are the info axis.\n",
      "    \n",
      "    Notes\n",
      "    -----\n",
      "    Arguments are mutually exclusive, but this is not checked for\n",
      "\n"
     ]
    }
   ],
   "source": [
    "help(pd.core.frame.DataFrame.filter)"
   ]
  },
  {
   "cell_type": "code",
   "execution_count": null,
   "metadata": {
    "collapsed": true
   },
   "outputs": [],
   "source": []
  }
 ],
 "metadata": {
  "anaconda-cloud": {},
  "kernelspec": {
   "display_name": "Python [Root]",
   "language": "python",
   "name": "Python [Root]"
  },
  "language_info": {
   "codemirror_mode": {
    "name": "ipython",
    "version": 3
   },
   "file_extension": ".py",
   "mimetype": "text/x-python",
   "name": "python",
   "nbconvert_exporter": "python",
   "pygments_lexer": "ipython3",
   "version": "3.5.2"
  },
  "widgets": {
   "state": {
    "084fb66a229d43b6aa81dbe9464c8e90": {
     "views": []
    },
    "08ec00c5454241d58219bdf82823b31a": {
     "views": []
    },
    "111fadc02c2f4a82948209c924c52136": {
     "views": [
      {
       "cell_index": 0
      }
     ]
    },
    "1643cf733dbd479d828c88652951de37": {
     "views": []
    },
    "2cd2889bc06d42ec8a132488a88de751": {
     "views": []
    },
    "3154a53886cf4e588c539f1f684b3ea2": {
     "views": []
    },
    "392ed525de154863a1de25e1b8d54b7d": {
     "views": []
    },
    "3ec29a4448b648689d0546e3e6f02978": {
     "views": [
      {
       "cell_index": 0
      }
     ]
    },
    "4368ec5686d84571b71c98e1ac86b377": {
     "views": []
    },
    "44c2fc2c3459414fb7978c830ec02d5c": {
     "views": []
    },
    "48fb3ed938a94b14a31e496695acb482": {
     "views": [
      {
       "cell_index": 0
      }
     ]
    },
    "50e60064566c40e6aa6cdccccf3f448c": {
     "views": []
    },
    "52d314d3ef6c473d97143f107fb0ef6f": {
     "views": []
    },
    "5367ea0bfc8442ba891d3062a34f4d83": {
     "views": []
    },
    "549ce014d07a4c5d939753d7e2152197": {
     "views": []
    },
    "59b49818b01e4e00b8c5c80d99ac3210": {
     "views": []
    },
    "60139183bf4a4543b0178940560552f3": {
     "views": []
    },
    "60d298b7ebac400bad1e98f637ebed68": {
     "views": []
    },
    "6143ebb65b99429ab62834ab585d1bf5": {
     "views": []
    },
    "6624aae5bea24a8d89aa92b730d4cc68": {
     "views": []
    },
    "747d6d5938564f33873daf0ebe924648": {
     "views": []
    },
    "77a67d33c3dd49d7a8a59af61160629f": {
     "views": []
    },
    "7f16bb4c3bf244df94f240ce77282299": {
     "views": []
    },
    "8128a8e264644c70ad28e19b7402a75f": {
     "views": []
    },
    "85b4e442c5af41bf8815a26530b7887a": {
     "views": []
    },
    "8a992f57f1ff4eb28dbbc8307d7a5781": {
     "views": []
    },
    "8d8c40f73a744ee299c59ca152562e77": {
     "views": []
    },
    "8eccffa00c7d4d9782bc4ca1d0b9c70e": {
     "views": []
    },
    "96e3013f3d3a472491a99d7e1c1ddd53": {
     "views": []
    },
    "9843bc5c6e2d438ca66eaf3d4e905d15": {
     "views": [
      {
       "cell_index": 0
      }
     ]
    },
    "9bde94bf2aa547d0bfe629c7a94044d3": {
     "views": []
    },
    "9dab00b5d60c4ac7b6bdedeac1372526": {
     "views": []
    },
    "b63f8851da7b4452bad031437c40ad2a": {
     "views": []
    },
    "b957bbe4117f4b7c8361aabd63ccc7f6": {
     "views": []
    },
    "bebf1805762349829f12c37703ca6a9f": {
     "views": []
    },
    "bf3850e90376486e9383e004655664ca": {
     "views": [
      {
       "cell_index": 0
      }
     ]
    },
    "c48d4961cf8543dcb852cff4d3f08760": {
     "views": []
    },
    "ca8a74f07ae2418fa83df931a28633de": {
     "views": []
    },
    "cc9b120a005f42e180b422ac8d5d4fea": {
     "views": []
    },
    "d150e7eaa05e4fea9093c7004ba40421": {
     "views": []
    },
    "db0978931dcf424eaa9deb4cbf8afd7d": {
     "views": []
    },
    "dddb5a066f8a47e5b2dd834497f04d22": {
     "views": []
    },
    "e1b3b1a4adb3493891090a9efdeef55d": {
     "views": []
    },
    "ee9d0a984b3c4ad19bb43b5c0962a718": {
     "views": []
    },
    "f2ab7243188f49ca8d152a13475aec0d": {
     "views": [
      {
       "cell_index": 0
      }
     ]
    },
    "f805ef99ab234746bbd0d6032c6a43fe": {
     "views": [
      {
       "cell_index": 0
      }
     ]
    },
    "f9245080bf51438b8513c5f710698493": {
     "views": []
    },
    "f934f390ddc84107a1df1a7793d0b341": {
     "views": []
    }
   },
   "version": "1.1.2"
  }
 },
 "nbformat": 4,
 "nbformat_minor": 0
}
