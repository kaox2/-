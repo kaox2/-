{
 "cells": [
  {
   "cell_type": "code",
   "execution_count": 11,
   "metadata": {
    "collapsed": false
   },
   "outputs": [
    {
     "name": "stdout",
     "output_type": "stream",
     "text": [
      "老師的麵\n"
     ]
    }
   ],
   "source": [
    "%pylab inline\n",
    "import pandas as pd\n",
    "from IPython.html.widgets import interact_manual\n",
    "from random import choice\n",
    "'''\n",
    " 店名,距離,價位\n",
    "stores_lst = [['牛肉麵','中','中'],\n",
    "              ['燉肉飯','中','低'],\n",
    "              ['壽司', '中', '高'],\n",
    "stores_df = pd.DataFrame(stores_lst, columns=[\"店名\",\"距離\",\"價位\"])\n",
    "'''\n",
    "try:\n",
    "    stores_df = pd.read_csv(\"鹽埕區.csv\", encoding ='utf8')\n",
    "except UnicodeDecodeError:\n",
    "    stores_df = pd.read_csv(\"鹽埕區.csv\", encoding ='big5')\n",
    "\n",
    "def pick_a_store():\n",
    "    print (choice(stores_df[\"店名\"]))  \n",
    "\n",
    "def pick_near_store():\n",
    "    gp = stores_df.groupby(\"距離\")\n",
    "    new_df = gp.get_group(name='近')\n",
    "    new_df.index = range(0,len(new_df))\n",
    "    print (choice(new_df[\"店名\"]))\n",
    "\n",
    "\n",
    "interact_manual(pick_a_store);\n",
    "interact_manual(pick_near_store);"
   ]
  },
  {
   "cell_type": "code",
   "execution_count": null,
   "metadata": {
    "collapsed": true
   },
   "outputs": [],
   "source": []
  }
 ],
 "metadata": {
  "anaconda-cloud": {},
  "kernelspec": {
   "display_name": "Python [Root]",
   "language": "python",
   "name": "Python [Root]"
  },
  "language_info": {
   "codemirror_mode": {
    "name": "ipython",
    "version": 3
   },
   "file_extension": ".py",
   "mimetype": "text/x-python",
   "name": "python",
   "nbconvert_exporter": "python",
   "pygments_lexer": "ipython3",
   "version": "3.5.2"
  }
 },
 "nbformat": 4,
 "nbformat_minor": 0
}
